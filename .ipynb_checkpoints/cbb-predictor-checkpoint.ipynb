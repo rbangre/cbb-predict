{
 "cells": [
  {
   "cell_type": "code",
   "execution_count": 22,
   "id": "fb4b0a04",
   "metadata": {},
   "outputs": [],
   "source": [
    "import pandas as pd\n",
    "import matplotlib.pyplot as plt \n",
    "import numpy as np\n",
    "from sklearn.preprocessing import LabelEncoder\n",
    "from sklearn import tree\n",
    "from sklearn.datasets import load_iris\n",
    "import pickle\n",
    "\n",
    "df = pd.read_csv(\"../data/ncaab-data/cbb.csv\")\n",
    "data_2021 = pd.read_csv(\"../data/ncaab-data/cbb21.csv\")\n",
    "data_2021 = data_2021[data_2021[\"TEAM\"] == \"Wisconsin\"]\n",
    "\n",
    "test = df[df[\"YEAR\"] == 2019]\n",
    "train = df[df[\"YEAR\"] != 2019]"
   ]
  },
  {
   "cell_type": "code",
   "execution_count": 23,
   "id": "d858c185",
   "metadata": {},
   "outputs": [],
   "source": [
    "train = train[[\"WP\", \"ADJOE\", \"ADJDE\", \"BARTHAG\", \"EFG_O\", \"EFG_D\", \n",
    "         \"TOR\", \"TORD\", \"ORB\", \"DRB\", \"FTR\", \"FTRD\", \"2P_O\", \n",
    "         \"2P_D\", \"3P_O\", \"3P_D\", \"ADJ_T\", \"WAB\", \"SEED\", \"POSTSEASON\"]]\n",
    "\n",
    "test = test[[\"WP\", \"ADJOE\", \"ADJDE\", \"BARTHAG\", \"EFG_O\", \"EFG_D\", \n",
    "         \"TOR\", \"TORD\", \"ORB\", \"DRB\", \"FTR\", \"FTRD\", \"2P_O\", \n",
    "         \"2P_D\", \"3P_O\", \"3P_D\", \"ADJ_T\", \"WAB\", \"SEED\", \"POSTSEASON\"]]\n",
    "\n",
    "data_2021 = data_2021[[\"WP\", \"ADJOE\", \"ADJDE\", \"BARTHAG\", \"EFG_O\", \"EFG_D\", \n",
    "         \"TOR\", \"TORD\", \"ORB\", \"DRB\", \"FTR\", \"FTRD\", \"2P_O\", \n",
    "         \"2P_D\", \"3P_O\", \"3P_D\", \"ADJ_T\", \"WAB\"]]\n",
    "\n"
   ]
  },
  {
   "cell_type": "code",
   "execution_count": 24,
   "id": "f66d5796",
   "metadata": {},
   "outputs": [],
   "source": [
    "le_postseason = LabelEncoder()\n",
    "\n",
    "train['POSTSEASON'] = le_postseason.fit_transform(train['POSTSEASON'])\n",
    "test[\"POSTSEASON\"] = le_postseason.fit_transform(test[\"POSTSEASON\"])"
   ]
  },
  {
   "cell_type": "code",
   "execution_count": 25,
   "id": "2bfd3ea4",
   "metadata": {
    "scrolled": true
   },
   "outputs": [],
   "source": [
    "x = train.drop(\"SEED\", axis=1).drop(\"POSTSEASON\", axis=1)\n",
    "y_postseason = train[\"POSTSEASON\"]\n",
    "y_seed = train[\"SEED\"]\n",
    "\n",
    "test_postseason_ans = test[\"POSTSEASON\"]\n",
    "test_seed_ans = test[\"SEED\"]\n",
    "test_data = test.drop(\"SEED\", axis=1).drop(\"POSTSEASON\", axis=1)\n",
    "\n"
   ]
  },
  {
   "cell_type": "code",
   "execution_count": 26,
   "id": "b7c8bbc5",
   "metadata": {},
   "outputs": [
    {
     "data": {
      "text/plain": [
       "DecisionTreeClassifier()"
      ]
     },
     "execution_count": 26,
     "metadata": {},
     "output_type": "execute_result"
    }
   ],
   "source": [
    "clf_postseason = tree.DecisionTreeClassifier()\n",
    "clf_seed = tree.DecisionTreeClassifier()\n",
    "\n",
    "clf_postseason.fit(x, y_postseason)\n",
    "clf_seed.fit(x, y_seed)"
   ]
  },
  {
   "cell_type": "code",
   "execution_count": 27,
   "id": "d687d724",
   "metadata": {},
   "outputs": [
    {
     "data": {
      "text/plain": [
       "array([9])"
      ]
     },
     "execution_count": 27,
     "metadata": {},
     "output_type": "execute_result"
    }
   ],
   "source": [
    "clf_seed.predict(data_2021)"
   ]
  },
  {
   "cell_type": "code",
   "execution_count": 28,
   "id": "c15f2c2a",
   "metadata": {},
   "outputs": [],
   "source": [
    "data = {\"postseason_model\": clf_postseason, \n",
    "        \"seed_model\": clf_seed,\n",
    "        \"postseason_label_encoder\": le_postseason\n",
    "       }\n",
    "with open('saved_steps.pkl', 'wb') as file: \n",
    "    pickle.dump(data, file)"
   ]
  },
  {
   "cell_type": "code",
   "execution_count": null,
   "id": "5cea266d",
   "metadata": {},
   "outputs": [],
   "source": []
  }
 ],
 "metadata": {
  "kernelspec": {
   "display_name": "cbb-predict",
   "language": "python",
   "name": "cbb-predict"
  },
  "language_info": {
   "codemirror_mode": {
    "name": "ipython",
    "version": 3
   },
   "file_extension": ".py",
   "mimetype": "text/x-python",
   "name": "python",
   "nbconvert_exporter": "python",
   "pygments_lexer": "ipython3",
   "version": "3.9.7"
  }
 },
 "nbformat": 4,
 "nbformat_minor": 5
}
